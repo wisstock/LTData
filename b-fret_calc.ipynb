{
 "cells": [
  {
   "cell_type": "markdown",
   "metadata": {},
   "source": [
    "Inplementation of B-FRET library for our data\n",
    "=============================================\n",
    "\n",
    "[Article](https://doi.org/10.1073/pnas.2211807120), [github](https://github.com/emonetlab/B-FRET/tree/main)"
   ]
  },
  {
   "cell_type": "code",
   "execution_count": 2,
   "metadata": {},
   "outputs": [],
   "source": [
    "import numpy as np\n",
    "from numpy import ma\n",
    "import pandas as pd\n",
    "\n",
    "import matplotlib.pyplot as plt\n",
    "import plotly.express as px\n",
    "\n",
    "from skimage import io\n",
    "\n",
    "from domb.red_green import wt_vs_mut_multistim\n",
    "from domb.utils import plot\n",
    "from domb.utils.plot import CMaps\n",
    "from domb.utils import masking"
   ]
  },
  {
   "cell_type": "markdown",
   "metadata": {},
   "source": [
    "# Input data & parameters"
   ]
  },
  {
   "cell_type": "code",
   "execution_count": 3,
   "metadata": {},
   "outputs": [],
   "source": [
    "img_DD = io.imread('/home/wisstock/bio_data/chemLTD/24_05_22/processing/09/24_05_22_09_xform_ch0.tif')\n",
    "img_DA = io.imread('/home/wisstock/bio_data/chemLTD/24_05_22/processing/09/24_05_22_09_xform_ch1.tif')\n",
    "img_AA = io.imread('/home/wisstock/bio_data/chemLTD/24_05_22/processing/09/24_05_22_09_xform_ch3.tif')\n",
    "mask_FRET = io.imread('/home/wisstock/bio_data/chemLTD/24_05_22/processing/09/24_05_22_09_xform_Fc_norm_red-green_up-labels.tif')\n",
    "\n",
    "a = 0.122\n",
    "d = 0.794\n",
    "G = 4.11"
   ]
  },
  {
   "cell_type": "markdown",
   "metadata": {},
   "source": [
    "# Data chekout and profiles extracting"
   ]
  },
  {
   "cell_type": "code",
   "execution_count": 4,
   "metadata": {},
   "outputs": [],
   "source": [
    "def label_prof(input_label: np.ndarray, input_img_series: np.ndarray):\n",
    "    prof_I_arr = []\n",
    "    prof_SD_arr=[]\n",
    "    for label_num in np.unique(input_label)[1:]:\n",
    "        region_mask = input_label == label_num\n",
    "        prof_I = np.mean(input_img_series, axis=(1,2), where=region_mask)\n",
    "        prof_SD = np.std(input_img_series, axis=(1,2), where=region_mask)\n",
    "\n",
    "        prof_I_arr.append(prof_I)\n",
    "        prof_SD_arr.append(prof_SD)\n",
    "    \n",
    "    return np.asarray(prof_I_arr), np.asarray(prof_SD_arr)\n",
    "\n",
    "profiles_I_DD, profiles_SD_DD = label_prof(mask_FRET, img_DD)\n",
    "profiles_I_DA, profiles_SD_DA = label_prof(mask_FRET, img_DA)\n",
    "profiles_I_AA, profiles_SD_AA = label_prof(mask_FRET, img_AA)"
   ]
  },
  {
   "cell_type": "code",
   "execution_count": 19,
   "metadata": {},
   "outputs": [
    {
     "data": {
      "application/vnd.plotly.v1+json": {
       "config": {
        "plotlyServerURL": "https://plot.ly"
       },
       "data": [
        {
         "hovertemplate": "x=%{x}<br>index=%{y}<extra></extra>",
         "legendgroup": "",
         "line": {
          "color": "#636efa",
          "dash": "solid"
         },
         "marker": {
          "symbol": "circle"
         },
         "mode": "lines",
         "name": "",
         "orientation": "h",
         "showlegend": false,
         "type": "scatter",
         "x": [
          805.2162162162163,
          766.1621621621622,
          765.027027027027,
          760.4864864864865,
          745.5675675675676,
          752.4324324324324,
          740.7027027027027,
          723.8378378378378,
          731.6216216216217,
          719.2162162162163,
          718.0540540540541,
          718.6216216216217,
          713.2162162162163,
          716.7297297297297,
          711.1351351351351,
          713.1891891891892,
          703.4324324324324,
          701.3783783783783,
          683.9459459459459,
          678.4324324324324,
          690.4054054054054,
          695.4594594594595,
          695.5135135135135,
          693.1621621621622,
          688.8918918918919,
          692.2162162162163,
          702.081081081081,
          712.2432432432432,
          699.081081081081,
          706.0540540540541,
          711.4594594594595,
          703.4054054054054,
          699.5405405405405,
          687.3243243243244,
          684.8648648648649,
          681.918918918919,
          677.7567567567568,
          692.4054054054054,
          686.4054054054054,
          672.2972972972973,
          682.081081081081,
          682.6216216216217,
          685.3783783783783,
          678.4054054054054,
          702.1351351351351,
          691.8918918918919,
          681.6216216216217,
          690.3513513513514,
          696.4054054054054,
          693.8918918918919,
          689.972972972973,
          688.8648648648649,
          692.6216216216217,
          688.081081081081,
          682.2162162162163,
          675.4864864864865,
          691.7027027027027,
          704.1081081081081,
          701.7837837837837,
          712.2162162162163,
          699.3243243243244,
          705.4324324324324,
          711.3513513513514,
          721.7297297297297,
          710.5405405405405,
          705.5675675675676,
          698.3513513513514,
          694.9459459459459,
          695.1621621621622,
          693.7567567567568,
          689.5135135135135,
          688.972972972973,
          678.3783783783783,
          689.1081081081081,
          679.081081081081,
          679.4864864864865,
          668.5675675675676,
          655.2972972972973,
          667.6216216216217,
          660.4864864864865,
          657.5135135135135,
          646.2432432432432,
          645.7297297297297,
          639.3513513513514,
          633.3783783783783,
          626.6756756756756,
          625.2972972972973,
          623.7837837837837,
          629.5945945945946,
          616.4324324324324,
          613.3783783783783,
          598.1621621621622,
          615,
          610.6756756756756,
          600.8108108108108,
          607,
          605.7837837837837,
          598.8648648648649,
          605.972972972973,
          588.6216216216217,
          587.3513513513514,
          583.4864864864865,
          583.1351351351351,
          588.4594594594595,
          585.1621621621622,
          578.7567567567568,
          565.7837837837837,
          565.3783783783783,
          565.6216216216217,
          557.4864864864865,
          566.4864864864865,
          566.4054054054054,
          572.8918918918919,
          561.7027027027027,
          564.4054054054054,
          555.8648648648649,
          555.6216216216217,
          546.9459459459459,
          537.4324324324324,
          545.1891891891892,
          540.4054054054054,
          551.4324324324324,
          541.1351351351351,
          534.1081081081081,
          531.3783783783783,
          523.8648648648649,
          523.7027027027027,
          519.7837837837837,
          518.9459459459459,
          514.3243243243244,
          522.6216216216217,
          524.5135135135135,
          523.972972972973,
          526.027027027027,
          520.2162162162163,
          535.3513513513514,
          529.4594594594595,
          533.7297297297297,
          542.5135135135135,
          529.7567567567568,
          530.7567567567568,
          544.2702702702703,
          538.5675675675676,
          536.3513513513514,
          540.081081081081,
          539.5945945945946,
          537.918918918919,
          538.1621621621622,
          541.4594594594595,
          541.4864864864865,
          540.7837837837837,
          542.0540540540541,
          549.5675675675676,
          547.3783783783783,
          538.3513513513514,
          545.4864864864865,
          549.2162162162163,
          532.6216216216217,
          541.5135135135135,
          533.2162162162163,
          545.3243243243244,
          530.1351351351351,
          534.2432432432432,
          543.6756756756756,
          534,
          533.7567567567568,
          531.7297297297297,
          529.5405405405405,
          520.8378378378378,
          529.027027027027,
          513.8108108108108,
          503.0810810810811,
          506.6756756756757,
          504.64864864864865,
          504.2432432432432,
          503.35135135135135,
          491.8918918918919,
          488.13513513513516,
          487.8918918918919,
          473.2972972972973,
          472.9189189189189,
          467.7027027027027,
          467.4054054054054,
          456.8378378378378,
          463.56756756756755,
          463.4864864864865,
          455.8918918918919,
          454.97297297297297,
          453.05405405405406,
          447.9189189189189,
          446.5405405405405,
          446.13513513513516,
          439.18918918918916,
          439.7567567567568,
          434.72972972972974,
          429.86486486486484,
          434.0810810810811,
          420.02702702702703,
          418.81081081081084,
          427,
          416.56756756756755,
          415.5405405405405,
          420.97297297297297,
          421.5135135135135,
          424.72972972972974,
          417.1081081081081,
          418.56756756756755,
          411.18918918918916,
          416.18918918918916,
          410.94594594594594,
          409.7027027027027,
          404.94594594594594,
          404.05405405405406,
          410.94594594594594,
          406,
          405.27027027027026,
          406.4864864864865,
          402.4594594594595,
          405.3243243243243,
          404.0810810810811,
          402.35135135135135,
          405.86486486486484,
          407.0810810810811,
          404.5405405405405,
          393.72972972972974,
          395.2972972972973,
          395.8378378378378,
          401.05405405405406,
          401.72972972972974,
          400.81081081081084,
          399.4864864864865,
          395.4594594594595,
          399.18918918918916,
          391.4594594594595,
          395.56756756756755,
          397.56756756756755,
          396.27027027027026,
          398.7837837837838,
          401.9189189189189,
          400.35135135135135,
          403.3243243243243,
          402.9189189189189,
          399.4054054054054,
          394.94594594594594,
          396.4864864864865,
          396.81081081081084,
          387.1081081081081,
          381.94594594594594,
          382.64864864864865,
          373.05405405405406,
          383.13513513513516,
          378.97297297297297,
          378.7567567567568,
          378.1081081081081,
          383.8378378378378,
          374.13513513513516,
          370.8918918918919,
          378,
          378.4594594594595,
          380.94594594594594,
          375.97297297297297,
          380.27027027027026,
          377.4594594594595,
          376.5135135135135,
          374.18918918918916,
          368.7027027027027,
          369.8378378378378,
          372.9189189189189,
          370.27027027027026,
          367.72972972972974,
          366.81081081081084,
          356.35135135135135,
          356.1081081081081,
          361.5405405405405,
          351.7027027027027,
          359.3783783783784,
          351.64864864864865,
          349.5135135135135,
          354.1081081081081,
          343.8918918918919,
          346.2432432432432,
          343.4054054054054,
          346.18918918918916,
          344.5945945945946,
          334.97297297297297,
          341.27027027027026,
          336.1081081081081,
          339,
          334.05405405405406,
          345.0810810810811,
          343.35135135135135,
          338.35135135135135,
          336.7027027027027,
          331.43243243243245,
          334.56756756756755,
          333.3783783783784,
          340.7027027027027,
          336.4864864864865,
          340.56756756756755,
          345.6216216216216
         ],
         "xaxis": "x",
         "y": [
          0,
          1,
          2,
          3,
          4,
          5,
          6,
          7,
          8,
          9,
          10,
          11,
          12,
          13,
          14,
          15,
          16,
          17,
          18,
          19,
          20,
          21,
          22,
          23,
          24,
          25,
          26,
          27,
          28,
          29,
          30,
          31,
          32,
          33,
          34,
          35,
          36,
          37,
          38,
          39,
          40,
          41,
          42,
          43,
          44,
          45,
          46,
          47,
          48,
          49,
          50,
          51,
          52,
          53,
          54,
          55,
          56,
          57,
          58,
          59,
          60,
          61,
          62,
          63,
          64,
          65,
          66,
          67,
          68,
          69,
          70,
          71,
          72,
          73,
          74,
          75,
          76,
          77,
          78,
          79,
          80,
          81,
          82,
          83,
          84,
          85,
          86,
          87,
          88,
          89,
          90,
          91,
          92,
          93,
          94,
          95,
          96,
          97,
          98,
          99,
          100,
          101,
          102,
          103,
          104,
          105,
          106,
          107,
          108,
          109,
          110,
          111,
          112,
          113,
          114,
          115,
          116,
          117,
          118,
          119,
          120,
          121,
          122,
          123,
          124,
          125,
          126,
          127,
          128,
          129,
          130,
          131,
          132,
          133,
          134,
          135,
          136,
          137,
          138,
          139,
          140,
          141,
          142,
          143,
          144,
          145,
          146,
          147,
          148,
          149,
          150,
          151,
          152,
          153,
          154,
          155,
          156,
          157,
          158,
          159,
          160,
          161,
          162,
          163,
          164,
          165,
          166,
          167,
          168,
          169,
          170,
          171,
          172,
          173,
          174,
          175,
          176,
          177,
          178,
          179,
          180,
          181,
          182,
          183,
          184,
          185,
          186,
          187,
          188,
          189,
          190,
          191,
          192,
          193,
          194,
          195,
          196,
          197,
          198,
          199,
          200,
          201,
          202,
          203,
          204,
          205,
          206,
          207,
          208,
          209,
          210,
          211,
          212,
          213,
          214,
          215,
          216,
          217,
          218,
          219,
          220,
          221,
          222,
          223,
          224,
          225,
          226,
          227,
          228,
          229,
          230,
          231,
          232,
          233,
          234,
          235,
          236,
          237,
          238,
          239,
          240,
          241,
          242,
          243,
          244,
          245,
          246,
          247,
          248,
          249,
          250,
          251,
          252,
          253,
          254,
          255,
          256,
          257,
          258,
          259,
          260,
          261,
          262,
          263,
          264,
          265,
          266,
          267,
          268,
          269,
          270,
          271,
          272,
          273,
          274,
          275,
          276,
          277,
          278,
          279,
          280,
          281,
          282,
          283,
          284,
          285,
          286,
          287,
          288,
          289,
          290,
          291,
          292,
          293,
          294,
          295,
          296,
          297,
          298,
          299
         ],
         "yaxis": "y"
        }
       ],
       "layout": {
        "legend": {
         "tracegroupgap": 0
        },
        "margin": {
         "t": 60
        },
        "template": {
         "data": {
          "bar": [
           {
            "error_x": {
             "color": "#2a3f5f"
            },
            "error_y": {
             "color": "#2a3f5f"
            },
            "marker": {
             "line": {
              "color": "#E5ECF6",
              "width": 0.5
             },
             "pattern": {
              "fillmode": "overlay",
              "size": 10,
              "solidity": 0.2
             }
            },
            "type": "bar"
           }
          ],
          "barpolar": [
           {
            "marker": {
             "line": {
              "color": "#E5ECF6",
              "width": 0.5
             },
             "pattern": {
              "fillmode": "overlay",
              "size": 10,
              "solidity": 0.2
             }
            },
            "type": "barpolar"
           }
          ],
          "carpet": [
           {
            "aaxis": {
             "endlinecolor": "#2a3f5f",
             "gridcolor": "white",
             "linecolor": "white",
             "minorgridcolor": "white",
             "startlinecolor": "#2a3f5f"
            },
            "baxis": {
             "endlinecolor": "#2a3f5f",
             "gridcolor": "white",
             "linecolor": "white",
             "minorgridcolor": "white",
             "startlinecolor": "#2a3f5f"
            },
            "type": "carpet"
           }
          ],
          "choropleth": [
           {
            "colorbar": {
             "outlinewidth": 0,
             "ticks": ""
            },
            "type": "choropleth"
           }
          ],
          "contour": [
           {
            "colorbar": {
             "outlinewidth": 0,
             "ticks": ""
            },
            "colorscale": [
             [
              0,
              "#0d0887"
             ],
             [
              0.1111111111111111,
              "#46039f"
             ],
             [
              0.2222222222222222,
              "#7201a8"
             ],
             [
              0.3333333333333333,
              "#9c179e"
             ],
             [
              0.4444444444444444,
              "#bd3786"
             ],
             [
              0.5555555555555556,
              "#d8576b"
             ],
             [
              0.6666666666666666,
              "#ed7953"
             ],
             [
              0.7777777777777778,
              "#fb9f3a"
             ],
             [
              0.8888888888888888,
              "#fdca26"
             ],
             [
              1,
              "#f0f921"
             ]
            ],
            "type": "contour"
           }
          ],
          "contourcarpet": [
           {
            "colorbar": {
             "outlinewidth": 0,
             "ticks": ""
            },
            "type": "contourcarpet"
           }
          ],
          "heatmap": [
           {
            "colorbar": {
             "outlinewidth": 0,
             "ticks": ""
            },
            "colorscale": [
             [
              0,
              "#0d0887"
             ],
             [
              0.1111111111111111,
              "#46039f"
             ],
             [
              0.2222222222222222,
              "#7201a8"
             ],
             [
              0.3333333333333333,
              "#9c179e"
             ],
             [
              0.4444444444444444,
              "#bd3786"
             ],
             [
              0.5555555555555556,
              "#d8576b"
             ],
             [
              0.6666666666666666,
              "#ed7953"
             ],
             [
              0.7777777777777778,
              "#fb9f3a"
             ],
             [
              0.8888888888888888,
              "#fdca26"
             ],
             [
              1,
              "#f0f921"
             ]
            ],
            "type": "heatmap"
           }
          ],
          "heatmapgl": [
           {
            "colorbar": {
             "outlinewidth": 0,
             "ticks": ""
            },
            "colorscale": [
             [
              0,
              "#0d0887"
             ],
             [
              0.1111111111111111,
              "#46039f"
             ],
             [
              0.2222222222222222,
              "#7201a8"
             ],
             [
              0.3333333333333333,
              "#9c179e"
             ],
             [
              0.4444444444444444,
              "#bd3786"
             ],
             [
              0.5555555555555556,
              "#d8576b"
             ],
             [
              0.6666666666666666,
              "#ed7953"
             ],
             [
              0.7777777777777778,
              "#fb9f3a"
             ],
             [
              0.8888888888888888,
              "#fdca26"
             ],
             [
              1,
              "#f0f921"
             ]
            ],
            "type": "heatmapgl"
           }
          ],
          "histogram": [
           {
            "marker": {
             "pattern": {
              "fillmode": "overlay",
              "size": 10,
              "solidity": 0.2
             }
            },
            "type": "histogram"
           }
          ],
          "histogram2d": [
           {
            "colorbar": {
             "outlinewidth": 0,
             "ticks": ""
            },
            "colorscale": [
             [
              0,
              "#0d0887"
             ],
             [
              0.1111111111111111,
              "#46039f"
             ],
             [
              0.2222222222222222,
              "#7201a8"
             ],
             [
              0.3333333333333333,
              "#9c179e"
             ],
             [
              0.4444444444444444,
              "#bd3786"
             ],
             [
              0.5555555555555556,
              "#d8576b"
             ],
             [
              0.6666666666666666,
              "#ed7953"
             ],
             [
              0.7777777777777778,
              "#fb9f3a"
             ],
             [
              0.8888888888888888,
              "#fdca26"
             ],
             [
              1,
              "#f0f921"
             ]
            ],
            "type": "histogram2d"
           }
          ],
          "histogram2dcontour": [
           {
            "colorbar": {
             "outlinewidth": 0,
             "ticks": ""
            },
            "colorscale": [
             [
              0,
              "#0d0887"
             ],
             [
              0.1111111111111111,
              "#46039f"
             ],
             [
              0.2222222222222222,
              "#7201a8"
             ],
             [
              0.3333333333333333,
              "#9c179e"
             ],
             [
              0.4444444444444444,
              "#bd3786"
             ],
             [
              0.5555555555555556,
              "#d8576b"
             ],
             [
              0.6666666666666666,
              "#ed7953"
             ],
             [
              0.7777777777777778,
              "#fb9f3a"
             ],
             [
              0.8888888888888888,
              "#fdca26"
             ],
             [
              1,
              "#f0f921"
             ]
            ],
            "type": "histogram2dcontour"
           }
          ],
          "mesh3d": [
           {
            "colorbar": {
             "outlinewidth": 0,
             "ticks": ""
            },
            "type": "mesh3d"
           }
          ],
          "parcoords": [
           {
            "line": {
             "colorbar": {
              "outlinewidth": 0,
              "ticks": ""
             }
            },
            "type": "parcoords"
           }
          ],
          "pie": [
           {
            "automargin": true,
            "type": "pie"
           }
          ],
          "scatter": [
           {
            "fillpattern": {
             "fillmode": "overlay",
             "size": 10,
             "solidity": 0.2
            },
            "type": "scatter"
           }
          ],
          "scatter3d": [
           {
            "line": {
             "colorbar": {
              "outlinewidth": 0,
              "ticks": ""
             }
            },
            "marker": {
             "colorbar": {
              "outlinewidth": 0,
              "ticks": ""
             }
            },
            "type": "scatter3d"
           }
          ],
          "scattercarpet": [
           {
            "marker": {
             "colorbar": {
              "outlinewidth": 0,
              "ticks": ""
             }
            },
            "type": "scattercarpet"
           }
          ],
          "scattergeo": [
           {
            "marker": {
             "colorbar": {
              "outlinewidth": 0,
              "ticks": ""
             }
            },
            "type": "scattergeo"
           }
          ],
          "scattergl": [
           {
            "marker": {
             "colorbar": {
              "outlinewidth": 0,
              "ticks": ""
             }
            },
            "type": "scattergl"
           }
          ],
          "scattermapbox": [
           {
            "marker": {
             "colorbar": {
              "outlinewidth": 0,
              "ticks": ""
             }
            },
            "type": "scattermapbox"
           }
          ],
          "scatterpolar": [
           {
            "marker": {
             "colorbar": {
              "outlinewidth": 0,
              "ticks": ""
             }
            },
            "type": "scatterpolar"
           }
          ],
          "scatterpolargl": [
           {
            "marker": {
             "colorbar": {
              "outlinewidth": 0,
              "ticks": ""
             }
            },
            "type": "scatterpolargl"
           }
          ],
          "scatterternary": [
           {
            "marker": {
             "colorbar": {
              "outlinewidth": 0,
              "ticks": ""
             }
            },
            "type": "scatterternary"
           }
          ],
          "surface": [
           {
            "colorbar": {
             "outlinewidth": 0,
             "ticks": ""
            },
            "colorscale": [
             [
              0,
              "#0d0887"
             ],
             [
              0.1111111111111111,
              "#46039f"
             ],
             [
              0.2222222222222222,
              "#7201a8"
             ],
             [
              0.3333333333333333,
              "#9c179e"
             ],
             [
              0.4444444444444444,
              "#bd3786"
             ],
             [
              0.5555555555555556,
              "#d8576b"
             ],
             [
              0.6666666666666666,
              "#ed7953"
             ],
             [
              0.7777777777777778,
              "#fb9f3a"
             ],
             [
              0.8888888888888888,
              "#fdca26"
             ],
             [
              1,
              "#f0f921"
             ]
            ],
            "type": "surface"
           }
          ],
          "table": [
           {
            "cells": {
             "fill": {
              "color": "#EBF0F8"
             },
             "line": {
              "color": "white"
             }
            },
            "header": {
             "fill": {
              "color": "#C8D4E3"
             },
             "line": {
              "color": "white"
             }
            },
            "type": "table"
           }
          ]
         },
         "layout": {
          "annotationdefaults": {
           "arrowcolor": "#2a3f5f",
           "arrowhead": 0,
           "arrowwidth": 1
          },
          "autotypenumbers": "strict",
          "coloraxis": {
           "colorbar": {
            "outlinewidth": 0,
            "ticks": ""
           }
          },
          "colorscale": {
           "diverging": [
            [
             0,
             "#8e0152"
            ],
            [
             0.1,
             "#c51b7d"
            ],
            [
             0.2,
             "#de77ae"
            ],
            [
             0.3,
             "#f1b6da"
            ],
            [
             0.4,
             "#fde0ef"
            ],
            [
             0.5,
             "#f7f7f7"
            ],
            [
             0.6,
             "#e6f5d0"
            ],
            [
             0.7,
             "#b8e186"
            ],
            [
             0.8,
             "#7fbc41"
            ],
            [
             0.9,
             "#4d9221"
            ],
            [
             1,
             "#276419"
            ]
           ],
           "sequential": [
            [
             0,
             "#0d0887"
            ],
            [
             0.1111111111111111,
             "#46039f"
            ],
            [
             0.2222222222222222,
             "#7201a8"
            ],
            [
             0.3333333333333333,
             "#9c179e"
            ],
            [
             0.4444444444444444,
             "#bd3786"
            ],
            [
             0.5555555555555556,
             "#d8576b"
            ],
            [
             0.6666666666666666,
             "#ed7953"
            ],
            [
             0.7777777777777778,
             "#fb9f3a"
            ],
            [
             0.8888888888888888,
             "#fdca26"
            ],
            [
             1,
             "#f0f921"
            ]
           ],
           "sequentialminus": [
            [
             0,
             "#0d0887"
            ],
            [
             0.1111111111111111,
             "#46039f"
            ],
            [
             0.2222222222222222,
             "#7201a8"
            ],
            [
             0.3333333333333333,
             "#9c179e"
            ],
            [
             0.4444444444444444,
             "#bd3786"
            ],
            [
             0.5555555555555556,
             "#d8576b"
            ],
            [
             0.6666666666666666,
             "#ed7953"
            ],
            [
             0.7777777777777778,
             "#fb9f3a"
            ],
            [
             0.8888888888888888,
             "#fdca26"
            ],
            [
             1,
             "#f0f921"
            ]
           ]
          },
          "colorway": [
           "#636efa",
           "#EF553B",
           "#00cc96",
           "#ab63fa",
           "#FFA15A",
           "#19d3f3",
           "#FF6692",
           "#B6E880",
           "#FF97FF",
           "#FECB52"
          ],
          "font": {
           "color": "#2a3f5f"
          },
          "geo": {
           "bgcolor": "white",
           "lakecolor": "white",
           "landcolor": "#E5ECF6",
           "showlakes": true,
           "showland": true,
           "subunitcolor": "white"
          },
          "hoverlabel": {
           "align": "left"
          },
          "hovermode": "closest",
          "mapbox": {
           "style": "light"
          },
          "paper_bgcolor": "white",
          "plot_bgcolor": "#E5ECF6",
          "polar": {
           "angularaxis": {
            "gridcolor": "white",
            "linecolor": "white",
            "ticks": ""
           },
           "bgcolor": "#E5ECF6",
           "radialaxis": {
            "gridcolor": "white",
            "linecolor": "white",
            "ticks": ""
           }
          },
          "scene": {
           "xaxis": {
            "backgroundcolor": "#E5ECF6",
            "gridcolor": "white",
            "gridwidth": 2,
            "linecolor": "white",
            "showbackground": true,
            "ticks": "",
            "zerolinecolor": "white"
           },
           "yaxis": {
            "backgroundcolor": "#E5ECF6",
            "gridcolor": "white",
            "gridwidth": 2,
            "linecolor": "white",
            "showbackground": true,
            "ticks": "",
            "zerolinecolor": "white"
           },
           "zaxis": {
            "backgroundcolor": "#E5ECF6",
            "gridcolor": "white",
            "gridwidth": 2,
            "linecolor": "white",
            "showbackground": true,
            "ticks": "",
            "zerolinecolor": "white"
           }
          },
          "shapedefaults": {
           "line": {
            "color": "#2a3f5f"
           }
          },
          "ternary": {
           "aaxis": {
            "gridcolor": "white",
            "linecolor": "white",
            "ticks": ""
           },
           "baxis": {
            "gridcolor": "white",
            "linecolor": "white",
            "ticks": ""
           },
           "bgcolor": "#E5ECF6",
           "caxis": {
            "gridcolor": "white",
            "linecolor": "white",
            "ticks": ""
           }
          },
          "title": {
           "x": 0.05
          },
          "xaxis": {
           "automargin": true,
           "gridcolor": "white",
           "linecolor": "white",
           "ticks": "",
           "title": {
            "standoff": 15
           },
           "zerolinecolor": "white",
           "zerolinewidth": 2
          },
          "yaxis": {
           "automargin": true,
           "gridcolor": "white",
           "linecolor": "white",
           "ticks": "",
           "title": {
            "standoff": 15
           },
           "zerolinecolor": "white",
           "zerolinewidth": 2
          }
         }
        },
        "xaxis": {
         "anchor": "y",
         "domain": [
          0,
          1
         ],
         "title": {
          "text": "x"
         }
        },
        "yaxis": {
         "anchor": "x",
         "domain": [
          0,
          1
         ],
         "title": {
          "text": "index"
         }
        }
       }
      }
     },
     "metadata": {},
     "output_type": "display_data"
    }
   ],
   "source": [
    "I_selected_ROI = profiles_I_DD[1]\n",
    "SD_selected_ROI = profiles_SD_DD[1]\n",
    "\n",
    "time_line = np.linspace(0, I_selected_ROI.shape[0]*1, \\\n",
    "                        num=I_selected_ROI.shape[0])\n",
    "\n",
    "px.line(time_line, I_selected_ROI)"
   ]
  },
  {
   "cell_type": "markdown",
   "metadata": {},
   "source": [
    "# Input data formating"
   ]
  },
  {
   "cell_type": "code",
   "execution_count": 33,
   "metadata": {},
   "outputs": [],
   "source": [
    "import pickle\n",
    "\n",
    "with open('/home/wisstock/bio/scripts/ltdata/B-FRET/example/data_sinusoids.pkl', 'rb') as handle:\n",
    "    b = pickle.load(handle)"
   ]
  },
  {
   "cell_type": "code",
   "execution_count": 21,
   "metadata": {},
   "outputs": [
    {
     "name": "stdout",
     "output_type": "stream",
     "text": [
      "(2, 1201)\n",
      "(2, 1201)\n",
      "(1201,)\n",
      "{'DT': 8, 'AT': 18, 'CDD': 1360, 'CAA': 340, 'Emax': 0.1, 'tau_D1': 1200, 'tau_D2': 120, 'tau_A1': 3000, 'tau_A2': 300, 'delta': 0.6, 'alpha': 0.6, 'CF': 0.46}\n",
      "{'d': 0.09, 'a': 0.35, 'G': 0.5}\n"
     ]
    }
   ],
   "source": [
    "print(b['IDD'].shape)\n",
    "print(b['IDD_noise_sd'].shape)\n",
    "print(b['tDD'].shape)\n",
    "print(b['data_params'])\n",
    "print(b['crstlk'])"
   ]
  },
  {
   "cell_type": "code",
   "execution_count": 30,
   "metadata": {},
   "outputs": [
    {
     "name": "stdout",
     "output_type": "stream",
     "text": [
      "(3, 300)\n",
      "(3, 300)\n",
      "(300,)\n",
      "{'a': 0.122, 'd': 0.794, 'G': 4.11}\n"
     ]
    }
   ],
   "source": [
    "selected_ROI = 1\n",
    "\n",
    "input_data = {\n",
    "    'IDD': profiles_I_DD[[0,2,3],:],\n",
    "    'IDA': profiles_I_DA[[0,2,3],:],\n",
    "    'IAA': profiles_I_AA[[0,2,3],:],\n",
    "    'tDD': time_line,\n",
    "    'tAA': time_line,\n",
    "    'IDD_noise_sd': profiles_SD_DD[[0,2,3],:],\n",
    "    'IDA_noise_sd': profiles_SD_DA[[0,2,3],:],\n",
    "    'IAA_noise_sd': profiles_SD_AA[[0,2,3],:],\n",
    "    'crstlk':{'a': a, 'd': d, 'G': G}     \n",
    "}\n",
    "\n",
    "print(input_data['IDD'].shape)\n",
    "print(input_data['IDD_noise_sd'].shape)\n",
    "print(input_data['tAA'].shape)\n",
    "print(input_data['crstlk'])"
   ]
  },
  {
   "cell_type": "code",
   "execution_count": 34,
   "metadata": {},
   "outputs": [],
   "source": [
    "with open('B-FRET_test/one_roi.pkl', 'wb') as handle:\n",
    "    pickle.dump(b, handle, protocol=pickle.HIGHEST_PROTOCOL)"
   ]
  },
  {
   "cell_type": "markdown",
   "metadata": {},
   "source": [
    "# B-FRET"
   ]
  },
  {
   "cell_type": "code",
   "execution_count": 35,
   "metadata": {},
   "outputs": [],
   "source": [
    "import sys\n",
    "sys.path.append('./B-FRET/src')\n",
    "from load_save import load_data\n",
    "from main import analyze_FRET_data"
   ]
  },
  {
   "cell_type": "code",
   "execution_count": 36,
   "metadata": {},
   "outputs": [
    {
     "name": "stdout",
     "output_type": "stream",
     "text": [
      "Optimizing log posterior to get mode for Laplace approx..\n",
      "15158.049437549631\n",
      "15158.049782478154\n",
      "15158.049621044353\n",
      "15158.049521413153\n",
      "15158.049490784093\n",
      "15158.04971023689\n",
      "15158.049469100555\n",
      "15158.04946113271\n",
      "15158.049380750554\n",
      "15158.04943945192\n",
      "inf\n",
      "3290737.7174034654\n",
      "328079.7335459514\n",
      "18093.341575872462\n",
      "15017.108472698174\n",
      "15017.108545120163\n",
      "15017.1083034842\n",
      "15017.108504209204\n",
      "15017.108485220046\n",
      "15017.10856519596\n",
      "15017.108451319138\n",
      "15017.108459977233\n",
      "15017.108506043356\n",
      "15017.108474582044\n",
      "inf\n",
      "9926220.253300427\n",
      "60256.58440306081\n",
      "15145.206236392283\n",
      "14947.62261813815\n",
      "14947.622582416925\n",
      "14947.622615335758\n",
      "14947.622624933163\n",
      "14947.62261383578\n",
      "14947.622628849123\n",
      "14947.622621778699\n",
      "14947.622623100173\n",
      "14947.622608177995\n",
      "14947.622619990245\n",
      "inf\n",
      "1519146.9339062062\n",
      "20724.950600213386\n",
      "14942.95525653657\n",
      "14930.56311577393\n",
      "14930.563101856445\n",
      "14930.56311557294\n",
      "14930.563113562786\n",
      "14930.563116362091\n",
      "14930.563111841053\n",
      "14930.563115034565\n",
      "14930.563113898748\n",
      "14930.563119023349\n",
      "14930.563117576814\n",
      "inf\n",
      "208041.41307860782\n",
      "16197.20772538885\n",
      "14931.089332751344\n",
      "14927.220983785703\n",
      "14927.220978235106\n",
      "14927.220974179938\n",
      "14927.220981032642\n",
      "14927.220984589674\n",
      "14927.220978215497\n",
      "14927.220982934408\n",
      "14927.22098380183\n",
      "14927.220984294372\n",
      "14927.22098555609\n",
      "inf\n",
      "94862.338566558\n",
      "15420.887724448743\n",
      "14925.5245158266\n",
      "14925.52450954053\n",
      "14925.52451072307\n",
      "14925.524515171664\n",
      "14925.524513078228\n",
      "14925.524508900697\n",
      "14925.524513277054\n",
      "14925.524515380817\n",
      "14925.52451830273\n",
      "14925.52451752522\n",
      "inf\n",
      "354291.2872320154\n",
      "15016.845749010614\n",
      "14921.81145280603\n",
      "14921.811444077559\n",
      "14921.811438291772\n",
      "14921.811451625192\n",
      "14921.811449108402\n",
      "14921.81144330759\n",
      "14921.811449701474\n",
      "14921.811450397885\n",
      "14921.811458168364\n",
      "14921.811454422463\n",
      "70707.05533757577\n",
      "14998.690515170107\n",
      "14880.59975621069\n",
      "14880.599743849309\n",
      "14880.599751189102\n",
      "14880.599754655186\n",
      "14880.599754386283\n",
      "14880.599750089274\n",
      "14880.59975406814\n",
      "14880.599756266798\n",
      "14880.599757560643\n",
      "14880.599756028467\n",
      "258643.75636694903\n",
      "14986.479536720872\n",
      "14880.63262867679\n",
      "14880.478479923126\n",
      "14880.478470333954\n",
      "14880.478476490085\n",
      "14880.47847922015\n",
      "14880.478478461171\n",
      "14880.478475904749\n",
      "14880.478478054218\n",
      "14880.478480161608\n",
      "14880.478480847572\n",
      "14880.478479734442\n",
      "31172.538583207235\n",
      "14884.15755133243\n",
      "14879.740866883272\n",
      "14879.74085591321\n",
      "14879.740858475303\n",
      "14879.740865626756\n",
      "14879.74086517302\n",
      "14879.740861318429\n",
      "14879.740864352478\n",
      "14879.740866317446\n",
      "14879.74086958934\n",
      "14879.740866695396\n",
      "15440.310661373016\n",
      "14877.915509225548\n",
      "14877.915506289153\n",
      "14877.915508773664\n",
      "14877.915508935446\n",
      "14877.91550875366\n",
      "14877.915507849117\n",
      "14877.915508817681\n",
      "14877.915509343145\n",
      "14877.915509229797\n",
      "14877.915509153341\n",
      "14877.580630741622\n",
      "14877.580631820787\n",
      "14877.580635503284\n",
      "14877.58063108458\n",
      "14877.580630863675\n",
      "14877.580631710285\n",
      "14877.580631581804\n",
      "14877.580631392917\n",
      "14877.58062916894\n",
      "14877.580630734756\n",
      "14877.552577250743\n",
      "14877.552577760376\n",
      "14877.552577882372\n",
      "14877.552577335371\n",
      "14877.552577342329\n",
      "14877.552577578952\n",
      "14877.552577358001\n",
      "14877.552577330287\n",
      "14877.552577058725\n",
      "14877.552577256565\n",
      "14877.551342809224\n",
      "14877.551342898496\n",
      "14877.55134292653\n",
      "14877.55134282776\n",
      "14877.551342825373\n",
      "14877.551342875066\n",
      "14877.551342825482\n",
      "14877.55134282775\n",
      "14877.551342772738\n",
      "14877.551342810033\n",
      "14877.551250707815\n",
      "14877.551250713646\n",
      "14877.55125074181\n",
      "14877.551250711535\n",
      "14877.551250708295\n",
      "14877.551250716577\n",
      "14877.551250712288\n",
      "14877.55125071467\n",
      "14877.551250695078\n",
      "14877.551250707724\n",
      "14877.551241587544\n",
      "14877.551241582958\n",
      "14877.551241585645\n",
      "14877.551241587025\n",
      "14877.55124158662\n",
      "14877.55124158503\n",
      "14877.551241587087\n",
      "14877.551241587555\n",
      "14877.551241587922\n",
      "14877.551241587482\n",
      "14877.551241444618\n",
      "14877.55124144404\n",
      "14877.551241444495\n",
      "14877.55124144454\n",
      "14877.55124144451\n",
      "14877.551241444255\n",
      "14877.551241444604\n",
      "14877.551241444631\n",
      "14877.551241444611\n",
      "14877.551241444611\n",
      "Autograd ArrayBox with value Autograd ArrayBox with value 14877.551241444618\n",
      "Function value:  14877.551241444618 BIC: 29828.80818188597 Opt success: True \n",
      " Optimum: [1.08097564e+04 6.15186712e+03 1.26897312e+03 1.25410010e+02\n",
      " 5.89890212e-01 2.68737954e+02 2.43367298e+03 3.55663775e-01\n",
      " 4.14260315e+01]\n",
      "Covariance matrix eigs [1.12073781e-02 8.16383666e-03 3.15157334e-03 4.15918911e-04\n",
      " 9.74215955e-05 2.07765554e-05 7.25191061e-06 6.22598657e-07\n",
      " 2.63055626e-07]\n",
      "Time elapsed: 30.39013671875\n",
      "Running Kalman filter and RTS smoother...\n",
      "Time elapsed:  37.63702416419983\n",
      "Optimizing log posterior to get mode for Laplace approx..\n",
      "15553.495510896562\n",
      "15553.496124605868\n",
      "15553.49582803761\n",
      "15553.495658709282\n",
      "15553.49559513352\n",
      "15553.495970214666\n",
      "15553.495510899204\n",
      "15553.49559846556\n",
      "15553.495620884432\n",
      "15553.495512485899\n",
      "inf\n",
      "3330689.1501908638\n",
      "368855.7895369672\n",
      "17976.831962194876\n",
      "15163.439778237675\n",
      "15163.439947240939\n",
      "15163.439501275605\n",
      "15163.43983165486\n",
      "15163.439802099369\n",
      "15163.439933162512\n",
      "15163.439778235834\n",
      "15163.439714425216\n",
      "15163.439702217589\n",
      "15163.439779798337\n",
      "inf\n",
      "8421845.50997973\n",
      "42095.84782080352\n",
      "14962.931059015053\n",
      "14962.931002922218\n",
      "14962.931121113303\n",
      "14962.931047105463\n",
      "14962.931051438398\n",
      "14962.931019868312\n",
      "14962.931059015662\n",
      "14962.931073130043\n",
      "14962.931075629478\n",
      "14962.931060486644\n",
      "inf\n",
      "772066.2595778443\n",
      "18088.4529349656\n",
      "14979.869611303391\n",
      "14961.709561564281\n",
      "14961.70951393007\n",
      "14961.709618234907\n",
      "14961.709547398887\n",
      "14961.70955584007\n",
      "14961.709520465347\n",
      "14961.709561564854\n",
      "14961.709573948907\n",
      "14961.709575744815\n",
      "14961.709563022665\n",
      "inf\n",
      "103742.45384864032\n",
      "15646.354591087902\n",
      "14964.126121765741\n",
      "14961.053342547044\n",
      "14961.053294841793\n",
      "14961.053395570545\n",
      "14961.053329013981\n",
      "14961.053335844495\n",
      "14961.053300739068\n",
      "14961.053342547737\n",
      "14961.05335598312\n",
      "14961.053359012816\n",
      "14961.053343986536\n",
      "inf\n",
      "73174.74283073377\n",
      "15412.341753168346\n",
      "14962.66118081775\n",
      "14960.518411601135\n",
      "14960.51836633187\n",
      "14960.518465055995\n",
      "14960.518398132535\n",
      "14960.518404592382\n",
      "14960.518368896715\n",
      "14960.518411601757\n",
      "14960.518422988074\n",
      "14960.518424951326\n",
      "14960.518413018137\n",
      "39616.82316787605\n",
      "15031.491480292965\n",
      "14925.081362920575\n",
      "14925.081312299142\n",
      "14925.081411169964\n",
      "14925.081349528806\n",
      "14925.081356524992\n",
      "14925.081323473089\n",
      "14925.081362920711\n",
      "14925.081374557956\n",
      "14925.081374736432\n",
      "14925.081362675928\n",
      "442918.1778740892\n",
      "14959.405282294849\n",
      "14923.685747312198\n",
      "14923.68569421398\n",
      "14923.685787864502\n",
      "14923.685732819176\n",
      "14923.685740620978\n",
      "14923.685705258491\n",
      "14923.685747312322\n",
      "14923.685756257819\n",
      "14923.68575735151\n",
      "14923.68574704959\n",
      "31417.357189200502\n",
      "14932.653939380596\n",
      "14913.923728544194\n",
      "14913.923717430907\n",
      "14913.923725827884\n",
      "14913.923725234192\n",
      "14913.923727082198\n",
      "14913.923720087485\n",
      "14913.923728545831\n",
      "14913.923727050098\n",
      "14913.923725274492\n",
      "14913.923728428523\n",
      "475603.7375921019\n",
      "26644.005949718616\n",
      "14916.959718642745\n",
      "14913.20626007275\n",
      "14913.206253222495\n",
      "14913.206255363317\n",
      "14913.20625899426\n",
      "14913.206259071736\n",
      "14913.206255889705\n",
      "14913.20626007369\n",
      "14913.20625837163\n",
      "14913.206257247743\n",
      "14913.206259950395\n",
      "14912.979009191418\n",
      "14912.979009563847\n",
      "14912.979009477778\n",
      "14912.979009465875\n",
      "14912.979009121487\n",
      "14912.97900954777\n",
      "14912.979009057664\n",
      "14912.979009321054\n",
      "14912.979009305938\n",
      "14912.97900918126\n",
      "15126.307364918091\n",
      "14913.546569976277\n",
      "14912.729693787187\n",
      "14912.729697486884\n",
      "14912.729696678603\n",
      "14912.729694686936\n",
      "14912.72969414607\n",
      "14912.729696242613\n",
      "14912.729693735848\n",
      "14912.72969483631\n",
      "14912.729695384054\n",
      "14912.72969382879\n",
      "14912.599673495266\n",
      "14912.59967333538\n",
      "14912.599673136952\n",
      "14912.599673445593\n",
      "14912.599673485758\n",
      "14912.599673362669\n",
      "14912.599673496965\n",
      "14912.599673426825\n",
      "14912.599673372351\n",
      "14912.59967349745\n",
      "14912.59857471433\n",
      "14912.598574766564\n",
      "14912.598574859563\n",
      "14912.598574734713\n",
      "14912.598574715372\n",
      "14912.598574756095\n",
      "14912.598574714542\n",
      "14912.598574751786\n",
      "14912.598574758162\n",
      "14912.598574713955\n",
      "14912.5985356561\n",
      "14912.598535660156\n",
      "14912.59853567504\n",
      "14912.598535657165\n",
      "14912.598535656789\n",
      "14912.59853565963\n",
      "14912.598535656049\n",
      "14912.598535662179\n",
      "14912.598535663581\n",
      "14912.598535656143\n",
      "14912.598535060588\n",
      "14912.598535061456\n",
      "14912.598535061476\n",
      "14912.59853506079\n",
      "14912.598535060764\n",
      "14912.598535061397\n",
      "14912.598535060588\n",
      "14912.598535060904\n",
      "14912.598535060906\n",
      "14912.598535060592\n",
      "14912.59853505444\n",
      "Autograd ArrayBox with value Autograd ArrayBox with value 14912.59853505444\n",
      "Function value:  14912.59853505444 BIC: 29898.90276910561 Opt success: True \n",
      " Optimum: [1.09102581e+04 6.09915746e+03 1.12129115e+03 1.13950530e+02\n",
      " 6.17246868e-01 2.63865170e+07 3.93665422e+02 4.22481964e-01\n",
      " 4.56894181e+01]\n",
      "Covariance matrix eigs [8.68432745e-03 9.08403164e-03 2.18971213e-03 4.89563236e-04\n",
      " 9.25563448e-05 1.36810816e-05 6.25839996e-06 6.00628566e-07\n",
      " 2.52280079e-07]\n",
      "Time elapsed: 27.764564990997314\n",
      "Running Kalman filter and RTS smoother...\n",
      "Time elapsed:  37.29733157157898\n"
     ]
    }
   ],
   "source": [
    "DATA_DIR = r'./B-FRET_test'\n",
    "EXP_DIR = r'./B-FRET_test/exp'\n",
    "\t\n",
    "def run():\n",
    "\n",
    "\tdata = load_data(DATA_DIR, 'one_roi')\n",
    "\ta = analyze_FRET_data(data, EXP_DIR)\n",
    "\ta.run()\n",
    "\n",
    "run()"
   ]
  }
 ],
 "metadata": {
  "kernelspec": {
   "display_name": "domb",
   "language": "python",
   "name": "python3"
  },
  "language_info": {
   "codemirror_mode": {
    "name": "ipython",
    "version": 3
   },
   "file_extension": ".py",
   "mimetype": "text/x-python",
   "name": "python",
   "nbconvert_exporter": "python",
   "pygments_lexer": "ipython3",
   "version": "3.9.18"
  }
 },
 "nbformat": 4,
 "nbformat_minor": 2
}
