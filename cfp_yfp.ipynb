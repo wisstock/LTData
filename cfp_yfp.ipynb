{
 "cells": [
  {
   "attachments": {},
   "cell_type": "markdown",
   "metadata": {},
   "source": [
    "chemLTD WT vs. mutant\n",
    "=====================\n",
    "\n",
    "Two florophore (CFP + EYFP) data analysis. Two emission channels (DX505) + two excitation wls. (435 nm + 505 nm)"
   ]
  },
  {
   "cell_type": "code",
   "execution_count": null,
   "metadata": {},
   "outputs": [],
   "source": [
    "import os\n",
    "import sys\n",
    "import glob\n",
    "import yaml\n",
    "\n",
    "import numpy as np\n",
    "from numpy import ma\n",
    "import pandas as pd\n",
    "\n",
    "import matplotlib.pyplot as plt\n",
    "import matplotlib.patches as patches\n",
    "import matplotlib.animation as anm\n",
    "from mpl_toolkits.axes_grid1 import make_axes_locatable\n",
    "from matplotlib import colors\n",
    "from matplotlib.colors import LinearSegmentedColormap\n",
    "\n",
    "import plotly.express as px\n",
    "\n",
    "from skimage.util import montage\n",
    "from skimage.filters import rank\n",
    "from skimage import morphology\n",
    "from skimage import exposure\n",
    "from skimage import measure\n",
    "from skimage import filters\n",
    "from skimage import io\n",
    "\n",
    "from scipy import ndimage\n",
    "from scipy import signal\n",
    "from scipy import stats\n"
   ]
  },
  {
   "attachments": {},
   "cell_type": "markdown",
   "metadata": {},
   "source": [
    "### Cmaps"
   ]
  },
  {
   "cell_type": "code",
   "execution_count": null,
   "metadata": {},
   "outputs": [],
   "source": [
    "# CFP cmap\n",
    "dict_cyan = {'red':(\n",
    "             (0.0, 0.0, 0.0),\n",
    "             (1.0, 0.0, 0.0)),\n",
    "             'blue':(\n",
    "             (0.0, 0.0, 0.0),\n",
    "             (1.0, 1.0, 1.0)),\n",
    "             'green':(\n",
    "             (0.0, 0.0, 0.0),\n",
    "             (1.0, 1.0, 1.0))}\n",
    "cmap_cyan = LinearSegmentedColormap('Cyan', dict_cyan)\n",
    "\n",
    "# YFP cmap\n",
    "dict_yellow = {'red':(\n",
    "               (0.0, 0.0, 0.0),\n",
    "               (1.0, 1.0, 1.0)),\n",
    "               'blue':(\n",
    "               (0.0, 0.0, 0.0),\n",
    "               (1.0, 0.0, 0.0)),\n",
    "               'green':(\n",
    "               (0.0, 0.0, 0.0),\n",
    "               (1.0, 1.0, 1.0))}\n",
    "cmap_yellow = LinearSegmentedColormap('Yellow', dict_yellow)\n",
    "\n",
    "# red-green cmap creation\n",
    "dict_red_green = {'red':(\n",
    "                   (0.0, 0.0, 0.0),\n",
    "                   (0.5, 0.0, 0.0),\n",
    "                   (0.55, 0.3, 0.7),\n",
    "                   (1.0, 1.0, 1.0)),\n",
    "                   'blue':(\n",
    "                   (0.0, 0.0, 0.0),\n",
    "                   (1.0, 0.0, 0.0)),\n",
    "                   'green':(\n",
    "                   (0.0, 1.0, 1.0),\n",
    "                   (0.45, 0.7, 0.3),\n",
    "                   (0.5, 0.0, 0.0),\n",
    "                   (1.0, 0.0, 0.0))}\n",
    "cmap_red_green = LinearSegmentedColormap('RedGreen', dict_red_green)\n",
    "\n",
    "# only red cmap\n",
    "dict_red = {'red':(\n",
    "             (0.0, 1.0, 1.0),\n",
    "             (1.0, 1.0, 0.0)),\n",
    "             'blue':(\n",
    "             (0.0, 0.0, 0.0),\n",
    "             (1.0, 0.0, 0.0)),\n",
    "             'green':(\n",
    "             (0.0, 0.0, 0.0),\n",
    "             (1.0, 0.0, 0.0))}\n",
    "cmap_red = LinearSegmentedColormap('red', dict_red)\n",
    "\n",
    "\n",
    "def plot_linearmap(cdict):\n",
    "    newcmp = LinearSegmentedColormap('testCmap', segmentdata=cdict, N=256)\n",
    "    rgba = newcmp(np.linspace(0, 1, 256))\n",
    "    fig, ax = plt.subplots(figsize=(4, 3), constrained_layout=True)\n",
    "    col = ['r', 'g', 'b']\n",
    "    for xx in [0.25, 0.5, 0.75]:\n",
    "        ax.axvline(xx, color='0.7', linestyle='--')\n",
    "    for i in range(3):\n",
    "        ax.plot(np.arange(256)/256, rgba[:, i], color=col[i])\n",
    "    ax.set_xlabel('index')\n",
    "    ax.set_ylabel('RGB')\n",
    "    plt.show()\n",
    "# plot_linearmap(dict_red)"
   ]
  },
  {
   "attachments": {},
   "cell_type": "markdown",
   "metadata": {},
   "source": [
    "## Img upload"
   ]
  },
  {
   "attachments": {},
   "cell_type": "markdown",
   "metadata": {},
   "source": [
    "#### Channels define"
   ]
  },
  {
   "cell_type": "code",
   "execution_count": null,
   "metadata": {},
   "outputs": [],
   "source": [
    "img_raw = io.imread('08.tif')\n",
    "print(img_raw.shape)\n",
    "\n",
    "img_cfp_raw = img_raw[:,:,:,3]  # 2\n",
    "img_yfp_raw = img_raw[:,:,:,1]  # 1"
   ]
  },
  {
   "cell_type": "code",
   "execution_count": null,
   "metadata": {},
   "outputs": [],
   "source": [
    "ch0_ctrl = np.mean(img_raw[:,:,:,0], axis=0)\n",
    "ch1_ctrl = np.mean(img_raw[:,:,:,1], axis=0)\n",
    "ch2_ctrl = np.mean(img_raw[:,:,:,2], axis=0)\n",
    "ch3_ctrl = np.mean(img_raw[:,:,:,3], axis=0)"
   ]
  },
  {
   "cell_type": "code",
   "execution_count": null,
   "metadata": {},
   "outputs": [],
   "source": [
    "plt.figure(figsize=(20,10))\n",
    "\n",
    "ax0 = plt.subplot(211)\n",
    "ax0.hist(ch0_ctrl.ravel(), bins=256, alpha=.5, label='Ch 0')\n",
    "ax0.hist(ch1_ctrl.ravel(), bins=256, alpha=.5, label='Ch 1')\n",
    "ax0.legend()\n",
    "\n",
    "ax1 = plt.subplot(212)\n",
    "ax1.hist(ch2_ctrl.ravel(), bins=256, alpha=.5, label='Ch 2')\n",
    "ax1.hist(ch3_ctrl.ravel(), bins=256, alpha=.5, label='Ch 3')\n",
    "ax1.legend()\n",
    "\n",
    "# plt.xlim([200, 800])\n",
    "plt.show()"
   ]
  },
  {
   "attachments": {},
   "cell_type": "markdown",
   "metadata": {},
   "source": [
    "#### Channels review"
   ]
  },
  {
   "cell_type": "code",
   "execution_count": null,
   "metadata": {},
   "outputs": [],
   "source": [
    "img_cfp_ctrl = np.mean(img_cfp_raw, axis=0)\n",
    "img_yfp_ctrl = np.mean(img_yfp_raw, axis=0)\n",
    "\n",
    "\n",
    "plt.figure(figsize=(12,15))\n",
    "ax0 = plt.subplot(221)\n",
    "ax0.set_title('Ch. CFP')\n",
    "img0 = ax0.imshow(img_cfp_ctrl, cmap=cmap_cyan)\n",
    "# img0.set_clim(vmin=np.min(img_raw), vmax=np.max(img_raw))\n",
    "div0 = make_axes_locatable(ax0)\n",
    "cax0 = div0.append_axes('right', size='3%', pad=0.1)\n",
    "plt.colorbar(img0, cax=cax0)\n",
    "ax0.axis('off')\n",
    "\n",
    "ax1 = plt.subplot(222)\n",
    "ax1.set_title('Ch. YFP')\n",
    "img1 = ax1.imshow(img_yfp_ctrl, cmap=cmap_yellow)\n",
    "# img1.set_clim(vmin=np.min(img_raw), vmax=np.max(img_raw))\n",
    "div1 = make_axes_locatable(ax1)\n",
    "cax1 = div1.append_axes('right', size='3%', pad=0.1)\n",
    "plt.colorbar(img1, cax=cax1)\n",
    "ax1.axis('off')\n",
    "\n",
    "ax2 = plt.subplot(614)\n",
    "ax2.plot([np.mean(frame) for frame in img_cfp_raw], label='CFP', color='blue')\n",
    "ax2.plot([np.mean(frame) for frame in img_yfp_raw], label='YFP', color='orange')\n",
    "ax2.legend()\n",
    "\n",
    "plt.xlabel('Frame num')\n",
    "plt.ylabel('Int, a.u.')\n",
    "\n",
    "plt.tight_layout()\n",
    "plt.show()\n",
    "\n",
    "\n",
    "img_cfp = filters.gaussian(img_cfp_raw, sigma=0.5)\n",
    "img_yfp = filters.gaussian(img_yfp_raw, sigma=0.5)\n"
   ]
  },
  {
   "attachments": {},
   "cell_type": "markdown",
   "metadata": {},
   "source": [
    "## Masking and application frame detection"
   ]
  },
  {
   "cell_type": "code",
   "execution_count": null,
   "metadata": {},
   "outputs": [],
   "source": [
    "def cell_masking(input_img, soma_mask=True, soma_th=0.5, soma_ext=20, proc_ext=5):\n",
    "    # soma masking\n",
    "    if soma_mask:\n",
    "        soma_region = np.copy(input_img)\n",
    "        soma_region = soma_region > soma_region.max() * soma_th\n",
    "        soma_region = morphology.opening(soma_region, footprint=morphology.disk(5))\n",
    "        # soma_region = morphology.dilation(soma_region, footprint=morphology.disk(10))\n",
    "        soma_dist = ndimage.distance_transform_edt(~soma_region, return_indices=False)\n",
    "        soma_mask = soma_dist < soma_ext\n",
    "        input_img = ma.masked_where(soma_mask, input_img)\n",
    "\n",
    "        th = filters.threshold_otsu(input_img.compressed())\n",
    "    else:\n",
    "        th = filters.threshold_otsu(input_img)\n",
    "\n",
    "    # processes masking\n",
    "    proc_mask = input_img > th\n",
    "    proc_mask = morphology.closing(proc_mask, footprint=morphology.disk(5))\n",
    "    proc_dist = ndimage.distance_transform_edt(~proc_mask, return_indices=False)\n",
    "    proc_mask_fin = proc_dist < proc_ext\n",
    "    proc_mask_fin[soma_mask] = 0\n",
    "\n",
    "    return proc_mask_fin\n",
    "\n",
    "img_ctrl_max = np.max(img_yfp, axis=0)\n",
    "\n",
    "mask = cell_masking(img_ctrl_max, soma_mask=False, soma_th=0.75, soma_ext=100, proc_ext=10)\n",
    "mask_arr = np.asarray([z+mask for z in np.zeros_like(img_yfp)], dtype='bool')\n",
    "\n",
    "# maskings\n",
    "img_yfp_masked = np.copy(img_yfp)\n",
    "img_yfp_masked[~mask_arr] = 0\n",
    "\n",
    "img_cfp_masked = np.copy(img_cfp)\n",
    "img_cfp_masked[~mask_arr] = 0\n",
    "\n",
    "# pb corr with constant val\n",
    "img_yfp_masked = np.asarray([img * (np.sum(np.mean(img_yfp_masked[:2], axis=0)/np.sum(img))) for img in img_yfp_masked])\n",
    "img_cfp_masked = np.asarray([img * (np.sum(np.mean(img_cfp_masked[:2], axis=0)/np.sum(img))) for img in img_cfp_masked])\n",
    "\n",
    "\n",
    "def der_prof_calc(input_img_series):\n",
    "    input_series_mean_prof = np.mean(input_img_series, axis=(1, 2))\n",
    "    input_series_mean_prof_norm = input_series_mean_prof / input_series_mean_prof.max()\n",
    "\n",
    "    input_series_der_prof = np.asarray([np.sum(np.abs(img)) for img in (input_img_series[:-1] - input_img_series[1:])])\n",
    "    input_series_der_prof_norm = input_series_der_prof / input_series_der_prof.max()\n",
    "\n",
    "    der_max_idx = np.argmax(input_series_der_prof_norm)\n",
    "\n",
    "    return input_series_der_prof_norm, der_max_idx\n",
    "\n",
    "yfp_der_prof, yfp_der_max = der_prof_calc(img_yfp_masked)\n",
    "cfp_der_prof, cfp_der_max = der_prof_calc(img_cfp_masked)\n",
    "\n",
    "\n",
    "plt.figure(figsize=(12,15))\n",
    "ax0 = plt.subplot(221)\n",
    "ax0.set_title('Proc. mask')\n",
    "ax0.imshow(mask)\n",
    "ax0.axis('off')\n",
    "\n",
    "ax1 = plt.subplot(222)\n",
    "ax1.set_title('Masked ref img')\n",
    "ax1.imshow(np.max(img_yfp_masked, axis=0))\n",
    "ax1.axis('off')\n",
    "\n",
    "ax2 = plt.subplot(614)\n",
    "ax2.plot(yfp_der_prof, label='EYFP der. profile', color='orange')\n",
    "ax2.plot(yfp_der_max, yfp_der_prof[yfp_der_max], marker='x', markersize=7, color='orange', label='EYFP der. max')\n",
    "ax2.plot(cfp_der_prof, label='CFP der. profile', color='blue')\n",
    "ax2.plot(cfp_der_max, cfp_der_prof[cfp_der_max], marker='x', markersize=7, color='blue', label='CFP der. max')\n",
    "\n",
    "plt.xlabel('Frame num')\n",
    "plt.ylabel('Int, norm')\n",
    "\n",
    "plt.legend()\n",
    "plt.tight_layout()\n",
    "plt.show()"
   ]
  },
  {
   "attachments": {},
   "cell_type": "markdown",
   "metadata": {},
   "source": [
    "## Red-green mask creation"
   ]
  },
  {
   "attachments": {},
   "cell_type": "markdown",
   "metadata": {},
   "source": [
    "#### Diff img creation"
   ]
  },
  {
   "cell_type": "code",
   "execution_count": null,
   "metadata": {},
   "outputs": [],
   "source": [
    "ref_img_series = filters.gaussian(img_cfp_masked, sigma=1.25, channel_axis=0)\n",
    "ref_der_max = cfp_der_max\n",
    "\n",
    "app_frame = 7\n",
    "\n",
    "\n",
    "# differential img and up mask calc\n",
    "# img_base = np.mean(ref_img_series[:7], axis=0)\n",
    "# img_max = np.mean(ref_img_series[12:15], axis=0)\n",
    "img_base = np.mean(ref_img_series[:5], axis=0)\n",
    "img_max = np.mean(ref_img_series[app_frame:app_frame+5], axis=0)\n",
    "\n",
    "\n",
    "img_diff = img_max - img_base\n",
    "img_diff = img_diff/np.max(np.abs(img_diff))\n",
    "\n",
    "print(img_diff.shape)\n",
    "print(mask.shape)\n",
    "diff_sd = np.std(ma.masked_where(~mask, img_diff))\n",
    "\n",
    "up_mask = img_diff > diff_sd * 2\n",
    "\n",
    "plt.figure(figsize=(20,20))\n",
    "ax0 = plt.subplot(121)\n",
    "ax0.set_title('Differential img')\n",
    "ax0.imshow(img_diff, cmap=cmap_red_green, vmax=1, vmin=-1)\n",
    "ax0.axis('off')\n",
    "\n",
    "ax1 = plt.subplot(122)\n",
    "ax1.set_title('Up regions over input img')\n",
    "ax1.imshow(img_yfp_ctrl)\n",
    "ax1.imshow(ma.masked_where(~up_mask, up_mask), alpha=0.5, cmap=cmap_red)\n",
    "ax1.arrow(550,645,-30,0,width=10, alpha=0.25, color='white')\n",
    "ax1.axis('off')\n",
    "\n",
    "plt.tight_layout()\n",
    "plt.show()"
   ]
  },
  {
   "attachments": {},
   "cell_type": "markdown",
   "metadata": {},
   "source": [
    "#### Up mask modification"
   ]
  },
  {
   "cell_type": "code",
   "execution_count": null,
   "metadata": {},
   "outputs": [],
   "source": [
    "up_mask_filt = morphology.opening(up_mask, footprint=morphology.disk(2))\n",
    "up_mask_filt = morphology.dilation(up_mask_filt, footprint=morphology.disk(1))\n",
    "up_label = measure.label(up_mask_filt)\n",
    "\n",
    "print(up_label.max())\n",
    "\n",
    "plt.figure(figsize=(15,15))\n",
    "\n",
    "ax1 = plt.subplot(121)\n",
    "ax1.set_title('Up mask filtered')\n",
    "ax1.imshow(img_yfp_ctrl)\n",
    "ax1.imshow(ma.masked_where(~up_mask_filt, up_mask_filt), alpha=0.5, cmap=cmap_red)\n",
    "ax1.arrow(550,645,-30,0,width=10, alpha=0.25, color='white')\n",
    "ax1.axis('off')\n",
    "\n",
    "ax1 = plt.subplot(122)\n",
    "ax1.set_title(f'Up mask labels ({up_label.max()} regions)')\n",
    "ax1.imshow(img_yfp_ctrl)\n",
    "ax1.imshow(ma.masked_where(~up_mask_filt, up_label), alpha=0.5, cmap='bwr')\n",
    "ax1.arrow(550,645,-30,0,width=10, alpha=0.25, color='white')\n",
    "ax1.axis('off')\n",
    "\n",
    "plt.tight_layout()\n",
    "plt.show()"
   ]
  },
  {
   "attachments": {},
   "cell_type": "markdown",
   "metadata": {},
   "source": [
    "#### Up regions distance calc"
   ]
  },
  {
   "cell_type": "code",
   "execution_count": null,
   "metadata": {},
   "outputs": [],
   "source": [
    "# pipett tip position mask\n",
    "pipet_mask = np.ones_like(img_yfp_ctrl)\n",
    "pipet_mask[645, 480] = 0\n",
    "\n",
    "dist_img = ndimage.distance_transform_edt(pipet_mask)\n",
    "dist_img = ma.masked_where(~up_mask_filt, dist_img)\n",
    "\n",
    "\n",
    "plt.figure(figsize=(30,15))\n",
    "plt.imshow(img_yfp_ctrl, cmap=cmap_yellow)\n",
    "plt.imshow(dist_img, cmap='jet', alpha=.5)\n",
    "plt.plot(480, 645, marker='x', color='r', markersize=10)\n",
    "plt.show()\n",
    "\n",
    "\n",
    "def label_prof_calc(input_labels, input_img_series, input_dist_img):\n",
    "    output_dict = {}\n",
    "    for label_num in range(1, np.max(input_labels)+1):\n",
    "        region_mask = input_labels == label_num\n",
    "        prof = np.asarray([np.mean(ma.masked_where(~region_mask, img)) for img in input_img_series])\n",
    "        F_0 = np.mean(prof[:5])\n",
    "        df_prof = (prof-F_0)/F_0\n",
    "        dist = round(np.mean(ma.masked_where(~region_mask, input_dist_img)), 1)\n",
    "        output_dict.update({dist:[label_num, prof, df_prof]})\n",
    "    \n",
    "    return output_dict\n",
    "\n",
    "\n",
    "yfp_prof_dict = label_prof_calc(up_label, img_yfp_masked, dist_img)\n",
    "cfp_prof_dict = label_prof_calc(up_label, img_cfp_masked, dist_img)"
   ]
  },
  {
   "attachments": {},
   "cell_type": "markdown",
   "metadata": {},
   "source": [
    "## Profile arrays creation"
   ]
  },
  {
   "cell_type": "code",
   "execution_count": null,
   "metadata": {},
   "outputs": [],
   "source": [
    "def sorted_prof_arr_calc(input_prof_dict, min_dF=0.25, mid_filter=True):\n",
    "    sorted_dist = list(input_prof_dict.keys())\n",
    "    sorted_dist.sort(key=float)\n",
    "\n",
    "    prof_arr = []\n",
    "    prof_id = []\n",
    "    prof_dist = []\n",
    "    for dist in sorted_dist:\n",
    "        roi_data = input_prof_dict[dist]\n",
    "        roi_id = roi_data[0]\n",
    "        # roi_prof = roi_data[1]\n",
    "        roi_prof_df = roi_data[2]\n",
    "\n",
    "        if mid_filter:\n",
    "            max_idx = np.argmax(roi_prof_df)\n",
    "            if max_idx > len(roi_prof_df) // 3:\n",
    "                continue\n",
    "            \n",
    "        if np.max(roi_prof_df) > min_dF:\n",
    "            prof_id.append(roi_id)\n",
    "            prof_arr.append(roi_prof_df)\n",
    "            prof_dist.append(dist)\n",
    "\n",
    "    prof_id = np.asarray(prof_id)\n",
    "    prof_arr = np.asarray(prof_arr)\n",
    "    prof_dist = np.asarray(prof_dist)\n",
    "\n",
    "    return prof_arr\n",
    "\n",
    "yfp_dist_prof_arr = sorted_prof_arr_calc(yfp_prof_dict, min_dF=0)\n",
    "yfp_dist_prof_arr_no_filter = sorted_prof_arr_calc(yfp_prof_dict, min_dF=0, mid_filter=False)\n",
    "cfp_dist_prof_arr = sorted_prof_arr_calc(cfp_prof_dict, min_dF=0)"
   ]
  },
  {
   "attachments": {},
   "cell_type": "markdown",
   "metadata": {},
   "source": [
    "#### YFP plot"
   ]
  },
  {
   "cell_type": "code",
   "execution_count": null,
   "metadata": {},
   "outputs": [],
   "source": [
    "yfp_clim = 0.5\n",
    "\n",
    "fig, ax = plt.subplots(figsize=(20,10))\n",
    "img = ax.imshow(yfp_dist_prof_arr, cmap='seismic', aspect=1)\n",
    "img.set_clim(vmin=-yfp_clim, vmax=yfp_clim)\n",
    "div = make_axes_locatable(ax)\n",
    "cax = div.append_axes('right', size='3%', pad=0.1)\n",
    "plt.colorbar(img, cax=cax)\n",
    "plt.show()"
   ]
  },
  {
   "cell_type": "code",
   "execution_count": null,
   "metadata": {},
   "outputs": [],
   "source": [
    "fig, ax = plt.subplots(figsize=(20,10))\n",
    "img = ax.imshow(yfp_dist_prof_arr_no_filter, cmap='seismic', aspect=1)\n",
    "img.set_clim(vmin=-yfp_clim, vmax=yfp_clim)\n",
    "div = make_axes_locatable(ax)\n",
    "cax = div.append_axes('right', size='3%', pad=0.1)\n",
    "plt.colorbar(img, cax=cax)\n",
    "plt.show()"
   ]
  },
  {
   "attachments": {},
   "cell_type": "markdown",
   "metadata": {},
   "source": [
    "#### CFP plot"
   ]
  },
  {
   "cell_type": "code",
   "execution_count": null,
   "metadata": {},
   "outputs": [],
   "source": [
    "cfp_clim = 0.5\n",
    "\n",
    "fig, ax = plt.subplots(figsize=(20,20))\n",
    "img = ax.imshow(cfp_dist_prof_arr, cmap='seismic', aspect = 1)\n",
    "img.set_clim(vmin=-cfp_clim, vmax=cfp_clim)\n",
    "div = make_axes_locatable(ax)\n",
    "cax = div.append_axes('right', size='3%', pad=0.1)\n",
    "plt.colorbar(img, cax=cax)\n",
    "plt.show()"
   ]
  },
  {
   "attachments": {},
   "cell_type": "markdown",
   "metadata": {},
   "source": [
    "## Stat"
   ]
  },
  {
   "attachments": {},
   "cell_type": "markdown",
   "metadata": {},
   "source": [
    "#### Maximal amplitude extraction"
   ]
  },
  {
   "cell_type": "code",
   "execution_count": null,
   "metadata": {},
   "outputs": [],
   "source": [
    "yfp_max_amp = np.max(yfp_dist_prof_arr, axis=1)\n",
    "cfp_max_amp = np.max(cfp_dist_prof_arr, axis=1)\n",
    "\n",
    "print(len(yfp_max_amp))\n",
    "print(len(cfp_max_amp))\n",
    "\n",
    "u_test = stats.mannwhitneyu(yfp_max_amp, cfp_max_amp)\n",
    "print(f\"U-test p-val={round(u_test[1], 5)}\")"
   ]
  },
  {
   "attachments": {},
   "cell_type": "markdown",
   "metadata": {},
   "source": [
    "#### Amplitude box-plot"
   ]
  },
  {
   "cell_type": "code",
   "execution_count": null,
   "metadata": {},
   "outputs": [],
   "source": [
    "yfp_amp_df = pd.DataFrame({'FP':np.full(len(yfp_max_amp), 'YFP'),\n",
    "                           'amp':yfp_max_amp})\n",
    "cfp_amp_df = pd.DataFrame({'FP':np.full(len(cfp_max_amp), 'CFP'),\n",
    "                           'amp':cfp_max_amp})\n",
    "amp_df = pd.concat([yfp_amp_df, cfp_amp_df], ignore_index=True)\n",
    "\n",
    "fig = px.box(amp_df, x='FP', y='amp', color='FP', points='all', title=f'Maximal dF/F per ROI, U-test p={round(u_test[1], 5)}')\n",
    "fig.show()"
   ]
  }
 ],
 "metadata": {
  "kernelspec": {
   "display_name": "caiman",
   "language": "python",
   "name": "python3"
  },
  "language_info": {
   "codemirror_mode": {
    "name": "ipython",
    "version": 3
   },
   "file_extension": ".py",
   "mimetype": "text/x-python",
   "name": "python",
   "nbconvert_exporter": "python",
   "pygments_lexer": "ipython3",
   "version": "3.10.8"
  },
  "orig_nbformat": 4
 },
 "nbformat": 4,
 "nbformat_minor": 2
}
