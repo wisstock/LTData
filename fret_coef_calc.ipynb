{
 "cells": [
  {
   "cell_type": "markdown",
   "metadata": {},
   "source": [
    "Calculation of Unmixing Coefficients and G Parameter\n",
    "====================================================\n",
    "---\n",
    "_Borys Olifirov, 07.2023_"
   ]
  },
  {
   "cell_type": "markdown",
   "metadata": {},
   "source": [
    "## Theoretical intro"
   ]
  },
  {
   "cell_type": "markdown",
   "metadata": {},
   "source": [
    "Based on _Zal and Gascoigne, 2004, doi: 10.1529/biophysj.103.022087_\n",
    "\n",
    "__Intensity notation__\n",
    "\n",
    "$$I_{XM(T)}$$\n",
    "\n",
    "- X - excitation type\n",
    "- M - emission type\n",
    "- T - transfection type (A if acceptor only cells), does not present for co-transfected cells\n",
    "\n",
    "\n",
    "### Sensitized-emission\n",
    "\n",
    "$$F_c = I_{DA} - a (I_{AA} - c I_{DD}) - d (I_{DD} - b I_{AA})$$\n",
    "\n",
    "$$F_c = I_{DA} - a I_{AA} - d I_{DD}$$\n",
    "$$if$$\n",
    "$$b \\approx c \\approx 0$$\n",
    "\n",
    "\n",
    "### Crosstalc caliration\n",
    "\n",
    "$$a = \\frac{I_{DA(A)}}{I_{AA(A)}}$$\n",
    "$$b = \\frac{I_{DD(A)}}{I_{AA(A)}}$$\n",
    "$$c = \\frac{I_{AA(D)}} {I_{DD(D)}}$$\n",
    "$$d = \\frac{I_{DA(D)}} {I_{DD(D)}}$$\n",
    "\n",
    "$$b \\approx c \\approx 0$$\n",
    "\n",
    "\n",
    "### Determination of the G parameter\n",
    "\n",
    "$$G = \\frac{F_c}{I_{DD}^{post} - I_{DD}} = \\frac{(I_{DA} - a I_{AA} - d I_{DD}) - (I_{DA}^{post} - a I_{AA}^{post} - d I_{DD}^{post})}{I_{DD}^{post} - I_{DD}}$$\n",
    "\n",
    "$$\\Delta I_{DD} = G \\cdot \\Delta F_c$$\n",
    "\n",
    "\n",
    "### E-FRET\n",
    "\n",
    "$$E_{app} = \\frac{R}{R+G}, R = \\frac{F_c}{I_{DD}}$$\n",
    "\n",
    "$$E_{corr} = E_{app}(t) \\frac{[A^0]_{tot}}{[A^t]_{tot}} = E_{app}(t) \\times \\frac{\\overline{I_{AA}^0 - c I_{DD}^0}}{\\overline{I_{AA}(t) - c I_{DD}(t)}}$$"
   ]
  },
  {
   "cell_type": "markdown",
   "metadata": {},
   "source": [
    "## Script"
   ]
  },
  {
   "cell_type": "code",
   "execution_count": null,
   "metadata": {},
   "outputs": [],
   "source": [
    "import numpy as np\n",
    "from numpy import ma\n",
    "import pandas as pd\n",
    "\n",
    "import matplotlib.pyplot as plt\n",
    "import matplotlib.patches as patches\n",
    "import matplotlib.animation as anm\n",
    "from mpl_toolkits.axes_grid1 import make_axes_locatable\n",
    "from matplotlib import colors\n",
    "from matplotlib.colors import LinearSegmentedColormap\n",
    "\n",
    "import plotly.express as px\n",
    "\n",
    "from skimage.util import montage\n",
    "from skimage.filters import rank\n",
    "from skimage import morphology\n",
    "from skimage import exposure\n",
    "from skimage import measure\n",
    "from skimage import filters\n",
    "from skimage import io\n",
    "from skimage import transform\n",
    "from skimage import registration\n",
    "\n",
    "from scipy import ndimage\n",
    "from scipy import signal\n",
    "from scipy import stats\n",
    "from scipy import ndimage as ndi\n",
    "\n",
    "from domb.fret import coef_calc"
   ]
  },
  {
   "cell_type": "markdown",
   "metadata": {},
   "source": [
    "### Crosstalk"
   ]
  },
  {
   "cell_type": "markdown",
   "metadata": {},
   "source": [
    "#### Data uploading"
   ]
  },
  {
   "cell_type": "code",
   "execution_count": null,
   "metadata": {},
   "outputs": [],
   "source": [
    "img_path = 'data/fret_calibration/crosstalk/'\n",
    "\n",
    "donor_reg = {'01':[400, 200],  # [exp 435 ms, exp 505 ms]\n",
    "             '02':[700, 300],\n",
    "             '03':[500, 400]}\n",
    "acceptor_reg = {'04':[500, 100],\n",
    "                '05':[700, 200],\n",
    "                '06':[500, 300]}"
   ]
  },
  {
   "cell_type": "code",
   "execution_count": null,
   "metadata": {},
   "outputs": [],
   "source": [
    "calib_reg = coef_calc.CrossRegSet(data_path=img_path,\n",
    "                             donor_reg_dict = donor_reg,\n",
    "                             acceptor_reg_dict=acceptor_reg)"
   ]
  },
  {
   "cell_type": "code",
   "execution_count": null,
   "metadata": {},
   "outputs": [],
   "source": [
    "fig = px.box(calib_reg.cross_raw_df, x='coef', y='val', color='ID', points='all')\n",
    "fig.show()"
   ]
  },
  {
   "cell_type": "code",
   "execution_count": null,
   "metadata": {},
   "outputs": [],
   "source": [
    "abcd_df = calib_reg.get_abcd()\n",
    "abcd_df"
   ]
  },
  {
   "cell_type": "code",
   "execution_count": null,
   "metadata": {},
   "outputs": [],
   "source": [
    "a_mean = np.mean(abcd_df['val'][(abcd_df['coef'] == 'a') & (abcd_df['ID'] != '05')])\n",
    "a_sd = np.std(abcd_df['val'][(abcd_df['coef'] == 'a') & (abcd_df['ID'] != '05')])\n",
    "print(f'a={round(a_mean, 4)}+/-{round(a_sd, 4)}')\n",
    "\n",
    "b_mean = np.mean(abcd_df['val'][(abcd_df['coef'] == 'b') & (abcd_df['ID'] != '05')])\n",
    "b_sd = np.std(abcd_df['val'][(abcd_df['coef'] == 'b') & (abcd_df['ID'] != '05')])\n",
    "print(f'b={round(b_mean, 4)}+/-{round(b_sd, 4)}')\n",
    "\n",
    "c_mean = np.mean(abcd_df['val'][(abcd_df['coef'] == 'c') & (abcd_df['ID'] != '03')])\n",
    "c_sd = np.std(abcd_df['val'][(abcd_df['coef'] == 'c') & (abcd_df['ID'] != '03')])\n",
    "print(f'c={round(c_mean, 4)}+/-{round(c_sd, 4)}')\n",
    "\n",
    "d_mean = np.mean(abcd_df['val'][abcd_df['coef'] == 'd'])\n",
    "d_sd = np.std(abcd_df['val'][abcd_df['coef'] == 'd'])\n",
    "print(f'd={round(d_mean, 4)}+/-{round(d_sd, 4)}')"
   ]
  },
  {
   "cell_type": "markdown",
   "metadata": {},
   "source": [
    "Concatenation of all coeficients data frames"
   ]
  },
  {
   "cell_type": "markdown",
   "metadata": {},
   "source": [
    "__a__=0.144+/-0.0318\n",
    "\n",
    "__b__=0.1292+/-0.0027\n",
    "\n",
    "__c__=0.2458+/-0.0298\n",
    "\n",
    "__d__=0.8506+/-0.0138\n"
   ]
  },
  {
   "cell_type": "markdown",
   "metadata": {},
   "source": [
    "Vis."
   ]
  },
  {
   "cell_type": "markdown",
   "metadata": {},
   "source": [
    "### G parameter"
   ]
  },
  {
   "cell_type": "markdown",
   "metadata": {},
   "source": [
    "#### Parameters"
   ]
  },
  {
   "cell_type": "code",
   "execution_count": null,
   "metadata": {},
   "outputs": [],
   "source": [
    "a = 0.144\n",
    "b = 0.1292\n",
    "c = 0.2458\n",
    "d = 0.8506\n",
    "abcd = [a, b, c, d]\n",
    "\n",
    "tandem_path = 'data/fret_calibration/tandem/'\n",
    "\n",
    "G_fov = coef_calc.GReg(img_name='FOV2',\n",
    "                        raw_path=tandem_path + '03.tif',\n",
    "                        bleach_path=tandem_path + '04.tif',\n",
    "                        bleach_frame=100,\n",
    "                        bleach_exp=800,\n",
    "                        A_exp=100,\n",
    "                        D_exp=400,\n",
    "                        coef_list=abcd)\n",
    "\n",
    "G_fov.ch_pic()\n",
    "G_fov.Fc_DD_pic()\n",
    "G_fov.G_calc_fit(bad_cells=[3])\n",
    "G_fov.Fc_plot()"
   ]
  }
 ],
 "metadata": {
  "kernelspec": {
   "display_name": "caiman",
   "language": "python",
   "name": "python3"
  },
  "language_info": {
   "codemirror_mode": {
    "name": "ipython",
    "version": 3
   },
   "file_extension": ".py",
   "mimetype": "text/x-python",
   "name": "python",
   "nbconvert_exporter": "python",
   "pygments_lexer": "ipython3",
   "version": "3.10.12"
  },
  "orig_nbformat": 4
 },
 "nbformat": 4,
 "nbformat_minor": 2
}
