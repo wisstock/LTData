{
 "cells": [
  {
   "attachments": {},
   "cell_type": "markdown",
   "metadata": {},
   "source": [
    "HPCA(WT) vs. HPCA(N75K)\n",
    "======================="
   ]
  },
  {
   "cell_type": "code",
   "execution_count": null,
   "metadata": {},
   "outputs": [],
   "source": [
    "import numpy as np\n",
    "from numpy import ma\n",
    "import pandas as pd\n",
    "\n",
    "import matplotlib.pyplot as plt\n",
    "import matplotlib.patches as patches\n",
    "import matplotlib.animation as anm\n",
    "from mpl_toolkits.axes_grid1 import make_axes_locatable\n",
    "from matplotlib import colors\n",
    "from matplotlib.colors import LinearSegmentedColormap\n",
    "\n",
    "from skimage.util import montage\n",
    "from skimage.filters import rank\n",
    "from skimage import morphology\n",
    "from skimage import exposure\n",
    "from skimage import measure\n",
    "from skimage import filters\n",
    "from skimage import io\n",
    "\n",
    "from scipy import ndimage\n",
    "from scipy import signal\n",
    "from scipy import stats\n"
   ]
  },
  {
   "cell_type": "code",
   "execution_count": null,
   "metadata": {},
   "outputs": [],
   "source": [
    "from domb.reg_type.wf_x2_m2 import WF_2x_2m as WF\n",
    "from domb.fret.e_app import Eapp\n",
    "from domb.red_green.wt_vs_mut import WTvsMut as WvM\n",
    "from domb.util import plot"
   ]
  },
  {
   "cell_type": "code",
   "execution_count": null,
   "metadata": {},
   "outputs": [],
   "source": [
    "reg_path = 'data/06_06_23/04.tif'\n",
    "reg_name = reg_path.split('/')[-1]\n",
    "reg_name = reg_name.split('.')[0]\n",
    "\n",
    "\n",
    "# fp1 - CFP, fp2 - YFP\n",
    "reg = WF(img_path=reg_path, img_name=reg_name, ch_order={'fp1':2,'fp2':1}, wf_sigma=.5,\n",
    "         soma_mask=False, soma_th=.5, soma_ext=150, proc_sigma=.5)  # processes masking parameters\n",
    "\n",
    "# reg.hist_pic()\n",
    "reg.ch_pic()\n",
    "reg.processes_mask_pic()"
   ]
  },
  {
   "cell_type": "markdown",
   "metadata": {},
   "source": [
    "## RG"
   ]
  },
  {
   "cell_type": "code",
   "execution_count": null,
   "metadata": {},
   "outputs": [],
   "source": [
    "reg_RG = WvM(wt_img=reg.corr_fp1_img,\n",
    "             mut_img=reg.corr_fp2_img,\n",
    "             narrow_mask=reg.narrow_proc_mask,\n",
    "             proc_mask=reg.proc_mask,\n",
    "             sd_tolerance=2, base_frames=5, app_start=7, app_win=7)  # up mask calc parameters\n",
    "\n",
    "reg_RG.diff_img_pic()"
   ]
  },
  {
   "cell_type": "code",
   "execution_count": null,
   "metadata": {},
   "outputs": [],
   "source": [
    "plt.imshow(reg_RG.mut_up_label)"
   ]
  },
  {
   "cell_type": "markdown",
   "metadata": {},
   "source": [
    "## Translocation"
   ]
  },
  {
   "cell_type": "code",
   "execution_count": null,
   "metadata": {},
   "outputs": [],
   "source": [
    "plot.stat_line_plot(arr_list=[reg_RG.wt_init_df_arr,\n",
    "                              reg_RG.mut_init_df_arr],\n",
    "                    lab_list=['WT', 'N75K'],\n",
    "                    stat_method='ci',\n",
    "                    figsize=(10,4))"
   ]
  },
  {
   "cell_type": "code",
   "execution_count": null,
   "metadata": {},
   "outputs": [],
   "source": [
    "filtered_narrow_mask = morphology.opening(reg.narrow_proc_mask, footprint=morphology.disk(3))\n",
    "\n",
    "plt.figure(figsize=(15,15))\n",
    "# plt.imshow(reg_RG.connected_up_mask)\n",
    "plt.imshow(ma.masked_where(~reg.narrow_proc_mask, reg.narrow_proc_mask), alpha=.5, cmap='bwr')\n",
    "plt.imshow(ma.masked_where(~filtered_narrow_mask, filtered_narrow_mask), alpha=.5, cmap='bwr')"
   ]
  },
  {
   "cell_type": "markdown",
   "metadata": {},
   "source": [
    "## FRET"
   ]
  },
  {
   "cell_type": "code",
   "execution_count": null,
   "metadata": {},
   "outputs": [],
   "source": [
    "a = 0.144\n",
    "b = 0.1292\n",
    "c = 0.2458\n",
    "d = 0.8506\n",
    "abcd = [a, b, c, d]\n",
    "\n",
    "G = 15.925\n",
    "\n",
    "reg_FRET = Eapp(dd_img=reg.ch0_img,\n",
    "                da_img=reg.ch1_img,\n",
    "                ad_img=reg.ch2_img,\n",
    "                aa_img=reg.ch3_img,\n",
    "                abcd_list=abcd, G_val=G,\n",
    "                mask=reg.proc_mask, corr_by_mask=True)  # parameters for E_corr_calc"
   ]
  },
  {
   "cell_type": "code",
   "execution_count": null,
   "metadata": {},
   "outputs": [],
   "source": [
    "from domb.util.plot import CMaps \n",
    "\n",
    "FRET_frame = reg_FRET.R_img[30]\n",
    "\n",
    "plt.figure(figsize=(10,10))\n",
    "plt.imshow(ma.masked_where(~reg.proc_mask, FRET_frame),\n",
    "           cmap='bwr', vmin=-np.max(np.abs(FRET_frame)), vmax=np.max(np.abs(FRET_frame)))"
   ]
  },
  {
   "cell_type": "code",
   "execution_count": null,
   "metadata": {},
   "outputs": [],
   "source": [
    "from domb.util import masking\n",
    "\n",
    "_,conn_fret = masking.label_prof_arr(input_labels=reg_RG.connected_up_label,\n",
    "                                   input_img_series=reg_FRET.Ecorr_img)\n",
    "_,halo_fret = masking.label_prof_arr(input_labels=reg_RG.halo_up_label, \n",
    "                                   input_img_series=reg_FRET.Ecorr_img)\n",
    "_,init_fret = masking.label_prof_arr(input_labels=reg_RG.init_up_label,\n",
    "                                   input_img_series=reg_FRET.Ecorr_img)"
   ]
  },
  {
   "cell_type": "code",
   "execution_count": null,
   "metadata": {},
   "outputs": [],
   "source": [
    "plot.stat_line_plot(arr_list=[conn_fret,\n",
    "                              halo_fret,\n",
    "                              init_fret],\n",
    "                    lab_list=['conn', 'halo', 'conn'],\n",
    "                    stat_method='ci',\n",
    "                    figsize=(10,4))"
   ]
  },
  {
   "cell_type": "markdown",
   "metadata": {},
   "source": [
    "## dF vs. FRET"
   ]
  },
  {
   "cell_type": "code",
   "execution_count": null,
   "metadata": {},
   "outputs": [],
   "source": [
    "arr_se_stat = lambda x: (np.mean(x, axis=0), \\\n",
    "                         np.std(x, axis=0)/np.sqrt(x.shape[1]))\n",
    "\n",
    "wt_mean, wt_var = arr_se_stat(reg_RG.wt_halo_df_arr) \n",
    "mut_mean, mut_var = arr_se_stat(reg_RG.mut_halo_df_arr)\n",
    "\n",
    "fret_mean, fret_var = arr_se_stat(halo_fret)\n",
    "\n",
    "\n",
    "time_line = np.linspace(0, wt_mean.shape[0]*2, \\\n",
    "                            num=wt_mean.shape[0])\n",
    "\n",
    "fig, ax1 = plt.subplots(figsize=(10,5))\n",
    "\n",
    "ax1.errorbar(time_line, wt_mean,\n",
    "             yerr = wt_var,\n",
    "             fmt ='-o', color='k', capsize=4, label='WT')\n",
    "ax1.errorbar(time_line, mut_mean,\n",
    "             yerr = mut_var,\n",
    "             fmt ='-o', color='r', capsize=4, label='N75K')\n",
    "ax1.set_xlabel('Time, s')\n",
    "ax1.set_ylabel('ΔF/F', color='r')\n",
    "ax1.tick_params(axis ='y', labelcolor='r')\n",
    "ax1.hlines(y=0, xmin=0, xmax=time_line.max(), linestyles='--', color='k')\n",
    "ax1.vlines(x=10,\n",
    "            ymin=wt_mean.min(),\n",
    "            ymax=wt_mean.max(),\n",
    "            linestyles=':', color='k', label='Glu application')\n",
    "plt.legend(loc='upper left')\n",
    "\n",
    "ax2 = ax1.twinx()  # instantiate a second axes that shares the same x-axis\n",
    "ax2.errorbar(time_line, fret_mean*100,\n",
    "             yerr = fret_var*100,\n",
    "             fmt ='-o', color='b', capsize=4, label='FRET')\n",
    "ax2.set_ylim([np.mean(np.concatenate((wt_mean, mut_mean))),50])\n",
    "ax2.set_ylabel('E app, %', color='b')\n",
    "ax2.tick_params(axis ='y', labelcolor='b')\n",
    "\n",
    "plt.legend(loc='lower left')\n",
    "plt.tight_layout()\n",
    "plt.title('Halo')\n",
    "plt.show()"
   ]
  }
 ],
 "metadata": {
  "kernelspec": {
   "display_name": "caiman",
   "language": "python",
   "name": "python3"
  },
  "language_info": {
   "codemirror_mode": {
    "name": "ipython",
    "version": 3
   },
   "file_extension": ".py",
   "mimetype": "text/x-python",
   "name": "python",
   "nbconvert_exporter": "python",
   "pygments_lexer": "ipython3",
   "version": "3.10.12"
  },
  "orig_nbformat": 4
 },
 "nbformat": 4,
 "nbformat_minor": 2
}
